{
 "cells": [
  {
   "cell_type": "markdown",
   "metadata": {},
   "source": [
    "# Implementing logistic regression from scratch\n",
    "\n",
    "The goal of this notebook is to implement your own logistic regression classifier. You will:\n",
    "\n",
    " * Extract features from Amazon product reviews.\n",
    " * Convert an SFrame into a NumPy array.\n",
    " * Implement the link function for logistic regression.\n",
    " * Write a function to compute the derivative of the log likelihood function with respect to a single coefficient.\n",
    " * Implement gradient ascent.\n",
    " * Given a set of coefficients, predict sentiments.\n",
    " * Compute classification accuracy for the logistic regression model.\n",
    " \n",
    "Let's get started!\n",
    "    \n",
    "## Fire up GraphLab Create\n",
    "\n",
    "Make sure you have the latest version of GraphLab Create. Upgrade by\n",
    "```\n",
    "   pip install graphlab-create --upgrade\n",
    "```\n",
    "See [this page](https://dato.com/download/) for detailed instructions on upgrading."
   ]
  },
  {
   "cell_type": "code",
   "execution_count": 1,
   "metadata": {},
   "outputs": [],
   "source": [
    "import graphlab"
   ]
  },
  {
   "cell_type": "markdown",
   "metadata": {},
   "source": [
    "## Load review dataset"
   ]
  },
  {
   "cell_type": "markdown",
   "metadata": {},
   "source": [
    "For this assignment, we will use a subset of the Amazon product review dataset. The subset was chosen to contain similar numbers of positive and negative reviews, as the original dataset consisted primarily of positive reviews."
   ]
  },
  {
   "cell_type": "code",
   "execution_count": 2,
   "metadata": {},
   "outputs": [
    {
     "name": "stdout",
     "output_type": "stream",
     "text": [
      "This non-commercial license of GraphLab Create for academic use is assigned to hemant.badhani@gmail.com and will expire on February 07, 2019.\n"
     ]
    },
    {
     "name": "stderr",
     "output_type": "stream",
     "text": [
      "[INFO] graphlab.cython.cy_server: GraphLab Create v2.1 started. Logging: /tmp/graphlab_server_1527485395.log\n"
     ]
    }
   ],
   "source": [
    "products = graphlab.SFrame('amazon_baby_subset.gl/')"
   ]
  },
  {
   "cell_type": "markdown",
   "metadata": {},
   "source": [
    "One column of this dataset is 'sentiment', corresponding to the class label with +1 indicating a review with positive sentiment and -1 indicating one with negative sentiment."
   ]
  },
  {
   "cell_type": "code",
   "execution_count": 3,
   "metadata": {},
   "outputs": [
    {
     "data": {
      "text/plain": [
       "dtype: int\n",
       "Rows: 53072\n",
       "[1, 1, 1, 1, 1, 1, 1, 1, 1, 1, 1, 1, 1, 1, 1, 1, 1, 1, 1, 1, 1, 1, 1, 1, 1, 1, 1, 1, 1, 1, 1, 1, 1, 1, 1, 1, 1, 1, 1, 1, 1, 1, 1, 1, 1, 1, 1, 1, 1, 1, 1, 1, 1, 1, 1, 1, 1, 1, 1, 1, 1, 1, 1, 1, 1, 1, 1, 1, 1, 1, 1, 1, 1, 1, 1, 1, 1, 1, 1, 1, 1, 1, 1, 1, 1, 1, 1, 1, 1, 1, 1, 1, 1, 1, 1, 1, 1, 1, 1, 1, ... ]"
      ]
     },
     "execution_count": 3,
     "metadata": {},
     "output_type": "execute_result"
    }
   ],
   "source": [
    "products['sentiment']"
   ]
  },
  {
   "cell_type": "markdown",
   "metadata": {},
   "source": [
    "Let us quickly explore more of this dataset.  The 'name' column indicates the name of the product.  Here we list the first 10 products in the dataset.  We then count the number of positive and negative reviews."
   ]
  },
  {
   "cell_type": "code",
   "execution_count": 4,
   "metadata": {},
   "outputs": [
    {
     "data": {
      "text/plain": [
       "dtype: str\n",
       "Rows: 10\n",
       "[\"Stop Pacifier Sucking without tears with Thumbuddy To Love's Binky Fairy Puppet and Adorable Book\", \"Nature's Lullabies Second Year Sticker Calendar\", \"Nature's Lullabies Second Year Sticker Calendar\", 'Lamaze Peekaboo, I Love You', \"SoftPlay Peek-A-Boo Where's Elmo A Children's Book\", 'Our Baby Girl Memory Book', 'Hunnt&reg; Falling Flowers and Birds Kids Nursery Home Decor Vinyl Mural Art Wall Paper Stickers', 'Blessed By Pope Benedict XVI Divine Mercy Full Color Medal', 'Cloth Diaper Pins Stainless Steel Traditional Safety Pin (Black)', 'Cloth Diaper Pins Stainless Steel Traditional Safety Pin (Black)']"
      ]
     },
     "execution_count": 4,
     "metadata": {},
     "output_type": "execute_result"
    }
   ],
   "source": [
    "products.head(10)['name']"
   ]
  },
  {
   "cell_type": "code",
   "execution_count": 5,
   "metadata": {},
   "outputs": [
    {
     "name": "stdout",
     "output_type": "stream",
     "text": [
      "# of positive reviews = 26579\n",
      "# of negative reviews = 26493\n"
     ]
    }
   ],
   "source": [
    "print '# of positive reviews =', len(products[products['sentiment']==1])\n",
    "print '# of negative reviews =', len(products[products['sentiment']==-1])"
   ]
  },
  {
   "cell_type": "markdown",
   "metadata": {},
   "source": [
    "**Note:** For this assignment, we eliminated class imbalance by choosing \n",
    "a subset of the data with a similar number of positive and negative reviews. \n",
    "\n",
    "## Apply text cleaning on the review data\n",
    "\n",
    "In this section, we will perform some simple feature cleaning using **SFrames**. The last assignment used all words in building bag-of-words features, but here we limit ourselves to 193 words (for simplicity). We compiled a list of 193 most frequent words into a JSON file. \n",
    "\n",
    "Now, we will load these words from this JSON file:"
   ]
  },
  {
   "cell_type": "code",
   "execution_count": 6,
   "metadata": {},
   "outputs": [],
   "source": [
    "import json\n",
    "with open('important_words.json', 'r') as f: # Reads the list of most frequent words\n",
    "    important_words = json.load(f)\n",
    "important_words = [str(s) for s in important_words]"
   ]
  },
  {
   "cell_type": "code",
   "execution_count": 7,
   "metadata": {},
   "outputs": [
    {
     "name": "stdout",
     "output_type": "stream",
     "text": [
      "['baby', 'one', 'great', 'love', 'use', 'would', 'like', 'easy', 'little', 'seat', 'old', 'well', 'get', 'also', 'really', 'son', 'time', 'bought', 'product', 'good', 'daughter', 'much', 'loves', 'stroller', 'put', 'months', 'car', 'still', 'back', 'used', 'recommend', 'first', 'even', 'perfect', 'nice', 'bag', 'two', 'using', 'got', 'fit', 'around', 'diaper', 'enough', 'month', 'price', 'go', 'could', 'soft', 'since', 'buy', 'room', 'works', 'made', 'child', 'keep', 'size', 'small', 'need', 'year', 'big', 'make', 'take', 'easily', 'think', 'crib', 'clean', 'way', 'quality', 'thing', 'better', 'without', 'set', 'new', 'every', 'cute', 'best', 'bottles', 'work', 'purchased', 'right', 'lot', 'side', 'happy', 'comfortable', 'toy', 'able', 'kids', 'bit', 'night', 'long', 'fits', 'see', 'us', 'another', 'play', 'day', 'money', 'monitor', 'tried', 'thought', 'never', 'item', 'hard', 'plastic', 'however', 'disappointed', 'reviews', 'something', 'going', 'pump', 'bottle', 'cup', 'waste', 'return', 'amazon', 'different', 'top', 'want', 'problem', 'know', 'water', 'try', 'received', 'sure', 'times', 'chair', 'find', 'hold', 'gate', 'open', 'bottom', 'away', 'actually', 'cheap', 'worked', 'getting', 'ordered', 'came', 'milk', 'bad', 'part', 'worth', 'found', 'cover', 'many', 'design', 'looking', 'weeks', 'say', 'wanted', 'look', 'place', 'purchase', 'looks', 'second', 'piece', 'box', 'pretty', 'trying', 'difficult', 'together', 'though', 'give', 'started', 'anything', 'last', 'company', 'come', 'returned', 'maybe', 'took', 'broke', 'makes', 'stay', 'instead', 'idea', 'head', 'said', 'less', 'went', 'working', 'high', 'unit', 'seems', 'picture', 'completely', 'wish', 'buying', 'babies', 'won', 'tub', 'almost', 'either']\n"
     ]
    }
   ],
   "source": [
    "print important_words"
   ]
  },
  {
   "cell_type": "markdown",
   "metadata": {},
   "source": [
    "Now, we will perform 2 simple data transformations:\n",
    "\n",
    "1. Remove punctuation using [Python's built-in](https://docs.python.org/2/library/string.html) string functionality.\n",
    "2. Compute word counts (only for **important_words**)\n",
    "\n",
    "We start with *Step 1* which can be done as follows:"
   ]
  },
  {
   "cell_type": "code",
   "execution_count": 8,
   "metadata": {},
   "outputs": [],
   "source": [
    "def remove_punctuation(text):\n",
    "    import string\n",
    "    return text.translate(None, string.punctuation) \n",
    "\n",
    "products['review_clean'] = products['review'].apply(remove_punctuation)"
   ]
  },
  {
   "cell_type": "markdown",
   "metadata": {},
   "source": [
    "Now we proceed with *Step 2*. For each word in **important_words**, we compute a count for the number of times the word occurs in the review. We will store this count in a separate column (one for each word). The result of this feature processing is a single column for each word in **important_words** which keeps a count of the number of times the respective word occurs in the review text.\n",
    "\n",
    "\n",
    "**Note:** There are several ways of doing this. In this assignment, we use the built-in *count* function for Python lists. Each review string is first split into individual words and the number of occurances of a given word is counted."
   ]
  },
  {
   "cell_type": "code",
   "execution_count": 9,
   "metadata": {},
   "outputs": [],
   "source": [
    "for word in important_words:\n",
    "    products[word] = products['review_clean'].apply(lambda s : s.split().count(word))"
   ]
  },
  {
   "cell_type": "markdown",
   "metadata": {},
   "source": [
    "The SFrame **products** now contains one column for each of the 193 **important_words**. As an example, the column **perfect** contains a count of the number of times the word **perfect** occurs in each of the reviews."
   ]
  },
  {
   "cell_type": "code",
   "execution_count": 68,
   "metadata": {},
   "outputs": [
    {
     "data": {
      "text/plain": [
       "2955"
      ]
     },
     "execution_count": 68,
     "metadata": {},
     "output_type": "execute_result"
    }
   ],
   "source": [
    "(products['perfect']>0).sum()"
   ]
  },
  {
   "cell_type": "markdown",
   "metadata": {},
   "source": [
    "Now, write some code to compute the number of product reviews that contain the word **perfect**.\n",
    "\n",
    "**Hint**: \n",
    "* First create a column called `contains_perfect` which is set to 1 if the count of the word **perfect** (stored in column **perfect**) is >= 1.\n",
    "* Sum the number of 1s in the column `contains_perfect`."
   ]
  },
  {
   "cell_type": "code",
   "execution_count": 11,
   "metadata": {},
   "outputs": [
    {
     "data": {
      "text/plain": [
       "3207"
      ]
     },
     "execution_count": 11,
     "metadata": {},
     "output_type": "execute_result"
    }
   ],
   "source": [
    "products['perfect'].sum()"
   ]
  },
  {
   "cell_type": "markdown",
   "metadata": {},
   "source": [
    "**Quiz Question**. How many reviews contain the word **perfect**?"
   ]
  },
  {
   "cell_type": "markdown",
   "metadata": {},
   "source": [
    "## Convert SFrame to NumPy array\n",
    "\n",
    "As you have seen previously, NumPy is a powerful library for doing matrix manipulation. Let us convert our data to matrices and then implement our algorithms with matrices.\n",
    "\n",
    "First, make sure you can perform the following import."
   ]
  },
  {
   "cell_type": "code",
   "execution_count": 12,
   "metadata": {
    "collapsed": true
   },
   "outputs": [],
   "source": [
    "import numpy as np"
   ]
  },
  {
   "cell_type": "markdown",
   "metadata": {},
   "source": [
    "We now provide you with a function that extracts columns from an SFrame and converts them into a NumPy array. Two arrays are returned: one representing features and another representing class labels. Note that the feature matrix includes an additional column 'intercept' to take account of the intercept term."
   ]
  },
  {
   "cell_type": "code",
   "execution_count": 13,
   "metadata": {
    "collapsed": true
   },
   "outputs": [],
   "source": [
    "def get_numpy_data(data_sframe, features, label):\n",
    "    data_sframe['intercept'] = 1\n",
    "    features = ['intercept'] + features\n",
    "    features_sframe = data_sframe[features]\n",
    "    feature_matrix = features_sframe.to_numpy()\n",
    "    label_sarray = data_sframe[label]\n",
    "    label_array = label_sarray.to_numpy()\n",
    "    return(feature_matrix, label_array)"
   ]
  },
  {
   "cell_type": "markdown",
   "metadata": {},
   "source": [
    "Let us convert the data into NumPy arrays."
   ]
  },
  {
   "cell_type": "code",
   "execution_count": 15,
   "metadata": {},
   "outputs": [],
   "source": [
    "# Warning: This may take a few minutes...\n",
    "feature_matrix, sentiment = get_numpy_data(products, important_words, 'sentiment') "
   ]
  },
  {
   "cell_type": "markdown",
   "metadata": {},
   "source": [
    "**Are you running this notebook on an Amazon EC2 t2.micro instance?** (If you are using your own machine, please skip this section)\n",
    "\n",
    "It has been reported that t2.micro instances do not provide sufficient power to complete the conversion in acceptable amount of time. For interest of time, please refrain from running `get_numpy_data` function. Instead, download the [binary file](https://s3.amazonaws.com/static.dato.com/files/coursera/course-3/numpy-arrays/module-3-assignment-numpy-arrays.npz) containing the four NumPy arrays you'll need for the assignment. To load the arrays, run the following commands:\n",
    "```\n",
    "arrays = np.load('module-3-assignment-numpy-arrays.npz')\n",
    "feature_matrix, sentiment = arrays['feature_matrix'], arrays['sentiment']\n",
    "```"
   ]
  },
  {
   "cell_type": "code",
   "execution_count": 16,
   "metadata": {},
   "outputs": [
    {
     "data": {
      "text/plain": [
       "(53072, 194)"
      ]
     },
     "execution_count": 16,
     "metadata": {},
     "output_type": "execute_result"
    }
   ],
   "source": [
    "feature_matrix.shape"
   ]
  },
  {
   "cell_type": "markdown",
   "metadata": {},
   "source": [
    "** Quiz Question:** How many features are there in the **feature_matrix**?\n",
    "\n",
    "** Quiz Question:** Assuming that the intercept is present, how does the number of features in **feature_matrix** relate to the number of features in the logistic regression model?"
   ]
  },
  {
   "cell_type": "markdown",
   "metadata": {},
   "source": [
    "Now, let us see what the **sentiment** column looks like:"
   ]
  },
  {
   "cell_type": "code",
   "execution_count": 17,
   "metadata": {},
   "outputs": [
    {
     "data": {
      "text/plain": [
       "array([ 1,  1,  1, ..., -1, -1, -1])"
      ]
     },
     "execution_count": 17,
     "metadata": {},
     "output_type": "execute_result"
    }
   ],
   "source": [
    "sentiment"
   ]
  },
  {
   "cell_type": "markdown",
   "metadata": {},
   "source": [
    "## Estimating conditional probability with link function"
   ]
  },
  {
   "cell_type": "markdown",
   "metadata": {},
   "source": [
    "Recall from lecture that the link function is given by:\n",
    "$$\n",
    "P(y_i = +1 | \\mathbf{x}_i,\\mathbf{w}) = \\frac{1}{1 + \\exp(-\\mathbf{w}^T h(\\mathbf{x}_i))},\n",
    "$$\n",
    "\n",
    "where the feature vector $h(\\mathbf{x}_i)$ represents the word counts of **important_words** in the review  $\\mathbf{x}_i$. Complete the following function that implements the link function:"
   ]
  },
  {
   "cell_type": "code",
   "execution_count": 18,
   "metadata": {},
   "outputs": [],
   "source": [
    "'''\n",
    "produces probablistic estimate for P(y_i = +1 | x_i, w).\n",
    "estimate ranges between 0 and 1.\n",
    "'''\n",
    "def predict_probability(feature_matrix, coefficients):\n",
    "    # Take dot product of feature_matrix and coefficients  \n",
    "    # YOUR CODE HERE\n",
    "    score = np.dot(feature_matrix,coefficients)\n",
    "    \n",
    "    # Compute P(y_i = +1 | x_i, w) using the link function\n",
    "    # YOUR CODE HERE\n",
    "    print(\"score:\" + str(score))\n",
    "    predictions = 1/(1+(np.exp(-score)))\n",
    "    \n",
    "    # return predictions\n",
    "    return predictions"
   ]
  },
  {
   "cell_type": "markdown",
   "metadata": {},
   "source": [
    "**Aside**. How the link function works with matrix algebra\n",
    "\n",
    "Since the word counts are stored as columns in **feature_matrix**, each $i$-th row of the matrix corresponds to the feature vector $h(\\mathbf{x}_i)$:\n",
    "$$\n",
    "[\\text{feature_matrix}] =\n",
    "\\left[\n",
    "\\begin{array}{c}\n",
    "h(\\mathbf{x}_1)^T \\\\\n",
    "h(\\mathbf{x}_2)^T \\\\\n",
    "\\vdots \\\\\n",
    "h(\\mathbf{x}_N)^T\n",
    "\\end{array}\n",
    "\\right] =\n",
    "\\left[\n",
    "\\begin{array}{cccc}\n",
    "h_0(\\mathbf{x}_1) & h_1(\\mathbf{x}_1) & \\cdots & h_D(\\mathbf{x}_1) \\\\\n",
    "h_0(\\mathbf{x}_2) & h_1(\\mathbf{x}_2) & \\cdots & h_D(\\mathbf{x}_2) \\\\\n",
    "\\vdots & \\vdots & \\ddots & \\vdots \\\\\n",
    "h_0(\\mathbf{x}_N) & h_1(\\mathbf{x}_N) & \\cdots & h_D(\\mathbf{x}_N)\n",
    "\\end{array}\n",
    "\\right]\n",
    "$$\n",
    "\n",
    "By the rules of matrix multiplication, the score vector containing elements $\\mathbf{w}^T h(\\mathbf{x}_i)$ is obtained by multiplying **feature_matrix** and the coefficient vector $\\mathbf{w}$.\n",
    "$$\n",
    "[\\text{score}] =\n",
    "[\\text{feature_matrix}]\\mathbf{w} =\n",
    "\\left[\n",
    "\\begin{array}{c}\n",
    "h(\\mathbf{x}_1)^T \\\\\n",
    "h(\\mathbf{x}_2)^T \\\\\n",
    "\\vdots \\\\\n",
    "h(\\mathbf{x}_N)^T\n",
    "\\end{array}\n",
    "\\right]\n",
    "\\mathbf{w}\n",
    "= \\left[\n",
    "\\begin{array}{c}\n",
    "h(\\mathbf{x}_1)^T\\mathbf{w} \\\\\n",
    "h(\\mathbf{x}_2)^T\\mathbf{w} \\\\\n",
    "\\vdots \\\\\n",
    "h(\\mathbf{x}_N)^T\\mathbf{w}\n",
    "\\end{array}\n",
    "\\right]\n",
    "= \\left[\n",
    "\\begin{array}{c}\n",
    "\\mathbf{w}^T h(\\mathbf{x}_1) \\\\\n",
    "\\mathbf{w}^T h(\\mathbf{x}_2) \\\\\n",
    "\\vdots \\\\\n",
    "\\mathbf{w}^T h(\\mathbf{x}_N)\n",
    "\\end{array}\n",
    "\\right]\n",
    "$$"
   ]
  },
  {
   "cell_type": "markdown",
   "metadata": {},
   "source": [
    "**Checkpoint**\n",
    "\n",
    "Just to make sure you are on the right track, we have provided a few examples. If your `predict_probability` function is implemented correctly, then the outputs will match:"
   ]
  },
  {
   "cell_type": "code",
   "execution_count": 69,
   "metadata": {},
   "outputs": [
    {
     "name": "stdout",
     "output_type": "stream",
     "text": [
      "The following outputs must match \n",
      "------------------------------------------------\n",
      "correct_predictions           = [ 0.98201379  0.26894142]\n",
      "output of predict_probability = score:[ 4. -1.]\n",
      "[ 0.98201379  0.26894142]\n"
     ]
    }
   ],
   "source": [
    "dummy_feature_matrix = np.array([[1.,2.,3.], [1.,-1.,-1]])\n",
    "dummy_coefficients = np.array([1., 3., -1.])\n",
    "\n",
    "correct_scores      = np.array( [ 1.*1. + 2.*3. + 3.*(-1.),          1.*1. + (-1.)*3. + (-1.)*(-1.) ] )\n",
    "correct_predictions = np.array( [ 1./(1+np.exp(-correct_scores[0])), 1./(1+np.exp(-correct_scores[1])) ] )\n",
    "\n",
    "print 'The following outputs must match '\n",
    "print '------------------------------------------------'\n",
    "print 'correct_predictions           =', correct_predictions\n",
    "print 'output of predict_probability =', predict_probability(dummy_feature_matrix, dummy_coefficients)"
   ]
  },
  {
   "cell_type": "markdown",
   "metadata": {},
   "source": [
    "## Compute derivative of log likelihood with respect to a single coefficient\n",
    "\n",
    "Recall from lecture:\n",
    "$$\n",
    "\\frac{\\partial\\ell}{\\partial w_j} = \\sum_{i=1}^N h_j(\\mathbf{x}_i)\\left(\\mathbf{1}[y_i = +1] - P(y_i = +1 | \\mathbf{x}_i, \\mathbf{w})\\right)\n",
    "$$\n",
    "\n",
    "We will now write a function that computes the derivative of log likelihood with respect to a single coefficient $w_j$. The function accepts two arguments:\n",
    "* `errors` vector containing $\\mathbf{1}[y_i = +1] - P(y_i = +1 | \\mathbf{x}_i, \\mathbf{w})$ for all $i$.\n",
    "* `feature` vector containing $h_j(\\mathbf{x}_i)$  for all $i$. \n",
    "\n",
    "Complete the following code block:"
   ]
  },
  {
   "cell_type": "code",
   "execution_count": 70,
   "metadata": {},
   "outputs": [],
   "source": [
    "def feature_derivative(errors, feature):     \n",
    "    # Compute the dot product of errors and feature\n",
    "    derivative = np.dot(errors, feature)\n",
    "    \n",
    "    # Return the derivative\n",
    "    return derivative"
   ]
  },
  {
   "cell_type": "markdown",
   "metadata": {},
   "source": [
    "In the main lecture, our focus was on the likelihood.  In the advanced optional video, however, we introduced a transformation of this likelihood---called the log likelihood---that simplifies the derivation of the gradient and is more numerically stable.  Due to its numerical stability, we will use the log likelihood instead of the likelihood to assess the algorithm.\n",
    "\n",
    "The log likelihood is computed using the following formula (see the advanced optional video if you are curious about the derivation of this equation):\n",
    "\n",
    "$$\\ell\\ell(\\mathbf{w}) = \\sum_{i=1}^N \\Big( (\\mathbf{1}[y_i = +1] - 1)\\mathbf{w}^T h(\\mathbf{x}_i) - \\ln\\left(1 + \\exp(-\\mathbf{w}^T h(\\mathbf{x}_i))\\right) \\Big) $$\n",
    "\n",
    "We provide a function to compute the log likelihood for the entire dataset. "
   ]
  },
  {
   "cell_type": "code",
   "execution_count": 71,
   "metadata": {},
   "outputs": [],
   "source": [
    "def compute_log_likelihood(feature_matrix, sentiment, coefficients):\n",
    "    indicator = (sentiment==+1)\n",
    "    scores = np.dot(feature_matrix, coefficients)\n",
    "    logexp = np.log(1. + np.exp(-scores))\n",
    "    \n",
    "    # Simple check to prevent overflow\n",
    "    mask = np.isinf(logexp)\n",
    "    logexp[mask] = -scores[mask]\n",
    "    \n",
    "    lp = np.sum((indicator-1)*scores - logexp)\n",
    "    return lp"
   ]
  },
  {
   "cell_type": "markdown",
   "metadata": {},
   "source": [
    "**Checkpoint**\n",
    "\n",
    "Just to make sure we are on the same page, run the following code block and check that the outputs match."
   ]
  },
  {
   "cell_type": "code",
   "execution_count": 72,
   "metadata": {},
   "outputs": [
    {
     "name": "stdout",
     "output_type": "stream",
     "text": [
      "The following outputs must match \n",
      "------------------------------------------------\n",
      "correct_log_likelihood           = -5.33141161544\n",
      "output of compute_log_likelihood = -5.33141161544\n"
     ]
    }
   ],
   "source": [
    "dummy_feature_matrix = np.array([[1.,2.,3.], [1.,-1.,-1]])\n",
    "dummy_coefficients = np.array([1., 3., -1.])\n",
    "dummy_sentiment = np.array([-1, 1])\n",
    "\n",
    "correct_indicators  = np.array( [ -1==+1,                                       1==+1 ] )\n",
    "correct_scores      = np.array( [ 1.*1. + 2.*3. + 3.*(-1.),                     1.*1. + (-1.)*3. + (-1.)*(-1.) ] )\n",
    "correct_first_term  = np.array( [ (correct_indicators[0]-1)*correct_scores[0],  (correct_indicators[1]-1)*correct_scores[1] ] )\n",
    "correct_second_term = np.array( [ np.log(1. + np.exp(-correct_scores[0])),      np.log(1. + np.exp(-correct_scores[1])) ] )\n",
    "\n",
    "correct_ll          =      sum( [ correct_first_term[0]-correct_second_term[0], correct_first_term[1]-correct_second_term[1] ] ) \n",
    "\n",
    "print 'The following outputs must match '\n",
    "print '------------------------------------------------'\n",
    "print 'correct_log_likelihood           =', correct_ll\n",
    "print 'output of compute_log_likelihood =', compute_log_likelihood(dummy_feature_matrix, dummy_sentiment, dummy_coefficients)"
   ]
  },
  {
   "cell_type": "markdown",
   "metadata": {},
   "source": [
    "## Taking gradient steps"
   ]
  },
  {
   "cell_type": "markdown",
   "metadata": {},
   "source": [
    "Now we are ready to implement our own logistic regression. All we have to do is to write a gradient ascent function that takes gradient steps towards the optimum. \n",
    "\n",
    "Complete the following function to solve the logistic regression model using gradient ascent:"
   ]
  },
  {
   "cell_type": "code",
   "execution_count": 73,
   "metadata": {},
   "outputs": [],
   "source": [
    "from math import sqrt\n",
    "\n",
    "def logistic_regression(feature_matrix, sentiment, initial_coefficients, step_size, max_iter):\n",
    "    coefficients = np.array(initial_coefficients) # make sure it's a numpy array\n",
    "    for itr in xrange(max_iter):\n",
    "\n",
    "        # Predict P(y_i = +1|x_i,w) using your predict_probability() function\n",
    "        # YOUR CODE HERE\n",
    "        predictions = predict_probability(feature_matrix, coefficients)\n",
    "        \n",
    "        # Compute indicator value for (y_i = +1)\n",
    "        indicator = (sentiment==+1)\n",
    "        \n",
    "        # Compute the errors as indicator - predictions\n",
    "        errors = indicator - predictions\n",
    "        for j in xrange(len(coefficients)): # loop over each coefficient\n",
    "            \n",
    "            # Recall that feature_matrix[:,j] is the feature column associated with coefficients[j].\n",
    "            # Compute the derivative for coefficients[j]. Save it in a variable called derivative\n",
    "            # YOUR CODE HERE\n",
    "#             derivative = feature_derivative(errors, feature_matrix[:,j])\n",
    "            derivative = feature_derivative(errors, feature_matrix[:,j])\n",
    "            # add the step size times the derivative to the current coefficient\n",
    "            ## YOUR CODE HERE\n",
    "            coefficients[j] = coefficients[j] + step_size*derivative\n",
    "        \n",
    "        # Checking whether log likelihood is increasing\n",
    "        if itr <= 15 or (itr <= 100 and itr % 10 == 0) or (itr <= 1000 and itr % 100 == 0) \\\n",
    "        or (itr <= 10000 and itr % 1000 == 0) or itr % 10000 == 0:\n",
    "            lp = compute_log_likelihood(feature_matrix, sentiment, coefficients)\n",
    "            print 'iteration %*d: log likelihood of observed labels = %.8f' % \\\n",
    "                (int(np.ceil(np.log10(max_iter))), itr, lp)\n",
    "    return coefficients"
   ]
  },
  {
   "cell_type": "markdown",
   "metadata": {},
   "source": [
    "Now, let us run the logistic regression solver."
   ]
  },
  {
   "cell_type": "code",
   "execution_count": 74,
   "metadata": {},
   "outputs": [
    {
     "name": "stdout",
     "output_type": "stream",
     "text": [
      "score:[ 0.  0.  0. ...,  0.  0.  0.]\n",
      "iteration   0: log likelihood of observed labels = -36780.91768478\n",
      "score:[  1.34250000e-04  -1.39850000e-04   2.07500000e-05 ...,  -1.58945000e-03\n",
      "  -5.81000000e-05  -2.82450000e-04]\n",
      "iteration   1: log likelihood of observed labels = -36775.13434712\n",
      "score:[  2.68962612e-04  -2.79245447e-04   4.22028159e-05 ...,  -3.17683982e-03\n",
      "  -1.15039173e-04  -5.64290605e-04]\n",
      "iteration   2: log likelihood of observed labels = -36769.35713564\n",
      "score:[  4.04134505e-04  -4.18188842e-04   6.43539672e-05 ...,  -4.76217705e-03\n",
      "  -1.70824170e-04  -8.45525034e-04]\n",
      "iteration   3: log likelihood of observed labels = -36763.58603240\n",
      "score:[  5.39762369e-04  -5.56682673e-04   8.71989983e-05 ...,  -6.34546925e-03\n",
      "  -2.25461605e-04  -1.12615649e-03]\n",
      "iteration   4: log likelihood of observed labels = -36757.82101962\n",
      "score:[ 0.00067584 -0.00069473  0.00011073 ..., -0.00792672 -0.00027896\n",
      " -0.00140619]\n",
      "iteration   5: log likelihood of observed labels = -36752.06207964\n",
      "score:[ 0.00081237 -0.00083233  0.00013495 ..., -0.00950595 -0.00033132\n",
      " -0.00168562]\n",
      "iteration   6: log likelihood of observed labels = -36746.30919497\n",
      "score:[ 0.00094935 -0.00096949  0.00015985 ..., -0.01108315 -0.00038255\n",
      " -0.00196446]\n",
      "iteration   7: log likelihood of observed labels = -36740.56234821\n",
      "score:[ 0.00108677 -0.00110621  0.00018543 ..., -0.01265834 -0.00043267\n",
      " -0.00224272]\n",
      "iteration   8: log likelihood of observed labels = -36734.82152213\n",
      "score:[ 0.00122463 -0.00124249  0.00021168 ..., -0.01423152 -0.00048166\n",
      " -0.00252038]\n",
      "iteration   9: log likelihood of observed labels = -36729.08669961\n",
      "score:[ 0.00136292 -0.00137834  0.00023859 ..., -0.0158027  -0.00052955\n",
      " -0.00279746]\n",
      "iteration  10: log likelihood of observed labels = -36723.35786366\n",
      "score:[ 0.00150165 -0.00151376  0.00026617 ..., -0.01737188 -0.00057634\n",
      " -0.00307396]\n",
      "iteration  11: log likelihood of observed labels = -36717.63499744\n",
      "score:[ 0.00164081 -0.00164874  0.00029441 ..., -0.01893908 -0.00062203\n",
      " -0.00334988]\n",
      "iteration  12: log likelihood of observed labels = -36711.91808422\n",
      "score:[ 0.00178039 -0.0017833   0.00032331 ..., -0.0205043  -0.00066663\n",
      " -0.00362523]\n",
      "iteration  13: log likelihood of observed labels = -36706.20710739\n",
      "score:[ 0.0019204  -0.00191743  0.00035285 ..., -0.02206755 -0.00071015 -0.0039    ]\n",
      "iteration  14: log likelihood of observed labels = -36700.50205049\n",
      "score:[ 0.00206083 -0.00205114  0.00038304 ..., -0.02362884 -0.00075259\n",
      " -0.00417421]\n",
      "iteration  15: log likelihood of observed labels = -36694.80289716\n",
      "score:[ 0.00220168 -0.00218443  0.00041387 ..., -0.02518816 -0.00079396\n",
      " -0.00444784]\n",
      "score:[ 0.00234295 -0.0023173   0.00044534 ..., -0.02674554 -0.00083427\n",
      " -0.00472092]\n",
      "score:[ 0.00248462 -0.00244975  0.00047745 ..., -0.02830098 -0.00087351\n",
      " -0.00499344]\n",
      "score:[ 0.0026267  -0.00258179  0.00051019 ..., -0.02985447 -0.00091171\n",
      " -0.0052654 ]\n",
      "score:[ 0.00276919 -0.00271342  0.00054355 ..., -0.03140604 -0.00094885\n",
      " -0.0055368 ]\n",
      "iteration  20: log likelihood of observed labels = -36666.39512033\n",
      "score:[ 0.00291208 -0.00284464  0.00057753 ..., -0.03295569 -0.00098496\n",
      " -0.00580766]\n",
      "score:[ 0.00305537 -0.00297545  0.00061213 ..., -0.03450342 -0.00102003\n",
      " -0.00607796]\n",
      "score:[ 0.00319906 -0.00310586  0.00064734 ..., -0.03604924 -0.00105408\n",
      " -0.00634772]\n",
      "score:[ 0.00334314 -0.00323586  0.00068317 ..., -0.03759317 -0.0010871\n",
      " -0.00661694]\n",
      "score:[ 0.00348761 -0.00336547  0.0007196  ..., -0.03913519 -0.0011191\n",
      " -0.00688562]\n",
      "score:[ 0.00363247 -0.00349467  0.00075663 ..., -0.04067533 -0.0011501\n",
      " -0.00715376]\n",
      "score:[ 0.00377771 -0.00362348  0.00079426 ..., -0.04221359 -0.00118009\n",
      " -0.00742137]\n",
      "score:[ 0.00392333 -0.0037519   0.00083248 ..., -0.04374997 -0.00120908\n",
      " -0.00768845]\n",
      "score:[ 0.00406934 -0.00387992  0.0008713  ..., -0.04528449 -0.00123707 -0.007955  ]\n",
      "score:[ 0.00421572 -0.00400756  0.0009107  ..., -0.04681714 -0.00126408\n",
      " -0.00822102]\n",
      "iteration  30: log likelihood of observed labels = -36610.01327118\n",
      "score:[ 0.00436247 -0.00413481  0.00095068 ..., -0.04834794 -0.00129011\n",
      " -0.00848652]\n",
      "score:[ 0.0045096  -0.00426167  0.00099124 ..., -0.04987689 -0.00131516\n",
      " -0.0087515 ]\n",
      "score:[ 0.00465709 -0.00438815  0.00103238 ..., -0.051404   -0.00133924\n",
      " -0.00901596]\n",
      "score:[ 0.00480494 -0.00451425  0.00107409 ..., -0.05292927 -0.00136236\n",
      " -0.00927991]\n",
      "score:[ 0.00495316 -0.00463997  0.00111637 ..., -0.05445272 -0.00138451\n",
      " -0.00954335]\n",
      "score:[ 0.00510174 -0.00476531  0.0011592  ..., -0.05597434 -0.00140571\n",
      " -0.00980627]\n",
      "score:[ 0.00525067 -0.00489028  0.0012026  ..., -0.05749415 -0.00142597\n",
      " -0.01006869]\n",
      "score:[ 0.00539996 -0.00501487  0.00124656 ..., -0.05901215 -0.00144528\n",
      " -0.01033061]\n",
      "score:[ 0.0055496  -0.0051391   0.00129107 ..., -0.06052834 -0.00146365\n",
      " -0.01059203]\n",
      "score:[ 0.00569959 -0.00526295  0.00133613 ..., -0.06204274 -0.00148109\n",
      " -0.01085294]\n",
      "iteration  40: log likelihood of observed labels = -36554.19728365\n",
      "score:[ 0.00584992 -0.00538644  0.00138173 ..., -0.06355535 -0.00149761\n",
      " -0.01111336]\n",
      "score:[ 0.0060006  -0.00550957  0.00142787 ..., -0.06506617 -0.0015132\n",
      " -0.01137329]\n",
      "score:[ 0.00615162 -0.00563233  0.00147456 ..., -0.06657522 -0.00152788\n",
      " -0.01163273]\n",
      "score:[ 0.00630297 -0.00575473  0.00152177 ..., -0.06808249 -0.00154165\n",
      " -0.01189167]\n",
      "score:[ 0.00645467 -0.00587677  0.00156952 ..., -0.069588   -0.00155451\n",
      " -0.01215014]\n",
      "score:[ 0.00660669 -0.00599846  0.0016178  ..., -0.07109174 -0.00156648\n",
      " -0.01240812]\n",
      "score:[ 0.00675904 -0.00611979  0.0016666  ..., -0.07259374 -0.00157754\n",
      " -0.01266561]\n",
      "score:[ 0.00691172 -0.00624077  0.00171592 ..., -0.07409398 -0.00158772\n",
      " -0.01292264]\n",
      "score:[ 0.00706473 -0.0063614   0.00176576 ..., -0.07559249 -0.00159702\n",
      " -0.01317918]\n",
      "score:[ 0.00721806 -0.00648168  0.00181611 ..., -0.07708926 -0.00160543\n",
      " -0.01343525]\n",
      "iteration  50: log likelihood of observed labels = -36498.93316099\n",
      "score:[ 0.0073717  -0.00660161  0.00186698 ..., -0.0785843  -0.00161297\n",
      " -0.01369085]\n",
      "score:[ 0.00752567 -0.0067212   0.00191835 ..., -0.08007762 -0.00161965\n",
      " -0.01394599]\n",
      "score:[ 0.00767995 -0.00684045  0.00197022 ..., -0.08156921 -0.00162545\n",
      " -0.01420065]\n",
      "score:[ 0.00783454 -0.00695935  0.00202259 ..., -0.0830591  -0.0016304\n",
      " -0.01445486]\n",
      "score:[ 0.00798944 -0.00707792  0.00207546 ..., -0.08454728 -0.0016345  -0.0147086 ]\n",
      "score:[ 0.00814465 -0.00719614  0.00212883 ..., -0.08603376 -0.00163775\n",
      " -0.01496188]\n",
      "score:[ 0.00830017 -0.00731403  0.00218268 ..., -0.08751855 -0.00164015\n",
      " -0.01521471]\n",
      "score:[ 0.00845598 -0.00743159  0.00223702 ..., -0.08900165 -0.00164171\n",
      " -0.01546709]\n",
      "score:[ 0.0086121  -0.00754882  0.00229185 ..., -0.09048306 -0.00164244\n",
      " -0.01571901]\n",
      "score:[ 0.00876851 -0.00766571  0.00234715 ..., -0.0919628  -0.00164234\n",
      " -0.01597048]\n",
      "iteration  60: log likelihood of observed labels = -36444.20783914\n",
      "score:[ 0.00892522 -0.00778228  0.00240293 ..., -0.09344087 -0.00164142\n",
      " -0.01622151]\n",
      "score:[ 0.00908223 -0.00789852  0.00245919 ..., -0.09491727 -0.00163968\n",
      " -0.01647209]\n",
      "score:[ 0.00923952 -0.00801444  0.00251592 ..., -0.09639201 -0.00163712\n",
      " -0.01672224]\n",
      "score:[ 0.0093971  -0.00813003  0.00257311 ..., -0.09786509 -0.00163375\n",
      " -0.01697194]\n",
      "score:[ 0.00955497 -0.0082453   0.00263077 ..., -0.09933653 -0.00162958\n",
      " -0.0172212 ]\n",
      "score:[ 0.00971312 -0.00836026  0.00268889 ..., -0.10080632 -0.0016246\n",
      " -0.01747003]\n",
      "score:[ 0.00987155 -0.00847489  0.00274747 ..., -0.10227448 -0.00161883\n",
      " -0.01771843]\n",
      "score:[ 0.01003026 -0.00858921  0.00280651 ..., -0.103741   -0.00161227\n",
      " -0.01796639]\n",
      "score:[ 0.01018925 -0.00870322  0.00286599 ..., -0.1052059  -0.00160493\n",
      " -0.01821393]\n",
      "score:[ 0.01034851 -0.00881691  0.00292593 ..., -0.10666917 -0.0015968\n",
      " -0.01846104]\n",
      "iteration  70: log likelihood of observed labels = -36390.00909449\n",
      "score:[ 0.01050805 -0.00893029  0.00298631 ..., -0.10813083 -0.00158789\n",
      " -0.01870772]\n",
      "score:[ 0.01066785 -0.00904336  0.00304713 ..., -0.10959087 -0.00157821\n",
      " -0.01895399]\n",
      "score:[ 0.01082792 -0.00915613  0.0031084  ..., -0.11104931 -0.00156776\n",
      " -0.01919983]\n",
      "score:[ 0.01098826 -0.00926859  0.0031701  ..., -0.11250615 -0.00155655\n",
      " -0.01944526]\n",
      "score:[ 0.01114886 -0.00938075  0.00323223 ..., -0.1139614  -0.00154458\n",
      " -0.01969027]\n",
      "score:[ 0.01130972 -0.0094926   0.0032948  ..., -0.11541505 -0.00153185\n",
      " -0.01993487]\n",
      "score:[ 0.01147084 -0.00960415  0.00335779 ..., -0.11686713 -0.00151837\n",
      " -0.02017906]\n",
      "score:[ 0.01163222 -0.00971541  0.00342121 ..., -0.11831762 -0.00150415\n",
      " -0.02042284]\n",
      "score:[ 0.01179385 -0.00982636  0.00348506 ..., -0.11976653 -0.00148919\n",
      " -0.02066621]\n"
     ]
    },
    {
     "name": "stdout",
     "output_type": "stream",
     "text": [
      "score:[ 0.01195574 -0.00993703  0.00354932 ..., -0.12121388 -0.00147348\n",
      " -0.02090918]\n",
      "iteration  80: log likelihood of observed labels = -36336.32546144\n",
      "score:[ 0.01211787 -0.01004739  0.00361399 ..., -0.12265967 -0.00145705\n",
      " -0.02115175]\n",
      "score:[ 0.01228026 -0.01015747  0.00367908 ..., -0.12410389 -0.00143989\n",
      " -0.02139391]\n",
      "score:[ 0.01244288 -0.01026725  0.00374458 ..., -0.12554657 -0.001422   -0.02163568]\n",
      "score:[ 0.01260576 -0.01037675  0.00381049 ..., -0.12698769 -0.00140339\n",
      " -0.02187705]\n",
      "score:[ 0.01276887 -0.01048595  0.00387681 ..., -0.12842727 -0.00138407\n",
      " -0.02211803]\n",
      "score:[ 0.01293223 -0.01059487  0.00394352 ..., -0.12986531 -0.00136403\n",
      " -0.02235861]\n",
      "score:[ 0.01309582 -0.01070351  0.00401064 ..., -0.13130182 -0.00134329\n",
      " -0.02259881]\n",
      "score:[ 0.01325965 -0.01081186  0.00407815 ..., -0.1327368  -0.00132184\n",
      " -0.02283861]\n",
      "score:[ 0.01342371 -0.01091993  0.00414606 ..., -0.13417025 -0.0012997\n",
      " -0.02307803]\n",
      "score:[ 0.013588   -0.01102773  0.00421436 ..., -0.13560219 -0.00127686\n",
      " -0.02331707]\n",
      "iteration  90: log likelihood of observed labels = -36283.14615871\n",
      "score:[ 0.01375253 -0.01113524  0.00428304 ..., -0.13703261 -0.00125333\n",
      " -0.02355572]\n",
      "score:[ 0.01391728 -0.01124248  0.00435211 ..., -0.13846152 -0.00122911\n",
      " -0.02379399]\n",
      "score:[ 0.01408226 -0.01134944  0.00442157 ..., -0.13988893 -0.00120421\n",
      " -0.02403189]\n",
      "score:[ 0.01424746 -0.01145613  0.00449141 ..., -0.14131484 -0.00117863\n",
      " -0.0242694 ]\n",
      "score:[ 0.01441288 -0.01156254  0.00456162 ..., -0.14273926 -0.00115237\n",
      " -0.02450655]\n",
      "score:[ 0.01457852 -0.01166869  0.00463221 ..., -0.14416218 -0.00112545\n",
      " -0.02474332]\n",
      "score:[ 0.01474438 -0.01177456  0.00470317 ..., -0.14558362 -0.00109786\n",
      " -0.02497972]\n",
      "score:[ 0.01491046 -0.01188017  0.0047745  ..., -0.14700358 -0.0010696\n",
      " -0.02521575]\n",
      "score:[ 0.01507675 -0.01198551  0.0048462  ..., -0.14842207 -0.00104069\n",
      " -0.02545142]\n",
      "score:[ 0.01524325 -0.01209058  0.00491826 ..., -0.14983908 -0.00101112\n",
      " -0.02568672]\n",
      "iteration 100: log likelihood of observed labels = -36230.46102347\n",
      "score:[ 0.01540997 -0.0121954   0.00499069 ..., -0.15125462 -0.0009809\n",
      " -0.02592165]\n",
      "score:[ 0.01557689 -0.01229995  0.00506347 ..., -0.15266871 -0.00095003\n",
      " -0.02615623]\n",
      "score:[ 0.01574401 -0.01240424  0.00513661 ..., -0.15408134 -0.00091852\n",
      " -0.02639045]\n",
      "score:[ 0.01591135 -0.01250827  0.00521011 ..., -0.15549251 -0.00088637\n",
      " -0.02662431]\n",
      "score:[ 0.01607888 -0.01261204  0.00528396 ..., -0.15690224 -0.00085358\n",
      " -0.02685781]\n",
      "score:[ 0.01624662 -0.01271555  0.00535816 ..., -0.15831052 -0.00082017\n",
      " -0.02709096]\n",
      "score:[ 0.01641456 -0.01281882  0.0054327  ..., -0.15971736 -0.00078612\n",
      " -0.02732376]\n",
      "score:[ 0.01658269 -0.01292182  0.0055076  ..., -0.16112277 -0.00075145\n",
      " -0.0275562 ]\n",
      "score:[ 0.01675102 -0.01302458  0.00558283 ..., -0.16252675 -0.00071616\n",
      " -0.0277883 ]\n",
      "score:[ 0.01691954 -0.01312708  0.0056584  ..., -0.1639293  -0.00068025\n",
      " -0.02802005]\n",
      "score:[ 0.01708826 -0.01322934  0.00573431 ..., -0.16533043 -0.00064372\n",
      " -0.02825146]\n",
      "score:[ 0.01725716 -0.01333135  0.00581055 ..., -0.16673014 -0.00060659\n",
      " -0.02848253]\n",
      "score:[ 0.01742625 -0.01343311  0.00588713 ..., -0.16812845 -0.00056885\n",
      " -0.02871325]\n",
      "score:[ 0.01759553 -0.01353462  0.00596404 ..., -0.16952534 -0.00053051\n",
      " -0.02894363]\n",
      "score:[ 0.017765   -0.01363589  0.00604127 ..., -0.17092083 -0.00049157\n",
      " -0.02917368]\n",
      "score:[ 0.01793465 -0.01373692  0.00611883 ..., -0.17231492 -0.00045203\n",
      " -0.02940339]\n",
      "score:[ 0.01810448 -0.01383771  0.00619672 ..., -0.17370761 -0.00041191\n",
      " -0.02963276]\n",
      "score:[ 0.01827449 -0.01393825  0.00627492 ..., -0.17509892 -0.00037119\n",
      " -0.0298618 ]\n",
      "score:[ 0.01844468 -0.01403856  0.00635345 ..., -0.17648883 -0.00032989\n",
      " -0.03009051]\n",
      "score:[ 0.01861504 -0.01413863  0.00643229 ..., -0.17787737 -0.000288   -0.0303189 ]\n",
      "score:[ 0.01878558 -0.01423846  0.00651144 ..., -0.17926452 -0.00024554\n",
      " -0.03054695]\n",
      "score:[ 0.01895629 -0.01433806  0.0065909  ..., -0.1806503  -0.00020251\n",
      " -0.03077468]\n",
      "score:[  1.91271772e-02  -1.44374278e-02   6.67067778e-03 ...,  -1.82034715e-01\n",
      "  -1.58900688e-04  -3.10020805e-02]\n",
      "score:[  1.92982309e-02  -1.45365608e-02   6.75075927e-03 ...,  -1.83417761e-01\n",
      "  -1.14726298e-04  -3.12291609e-02]\n",
      "score:[  1.94694528e-02  -1.46354627e-02   6.83114569e-03 ...,  -1.84799444e-01\n",
      "  -6.99876050e-05  -3.14559202e-02]\n",
      "score:[  1.96408412e-02  -1.47341348e-02   6.91183482e-03 ...,  -1.86179770e-01\n",
      "  -2.46879814e-05  -3.16823600e-02]\n",
      "score:[  1.98123945e-02  -1.48325782e-02   6.99282447e-03 ...,  -1.87558742e-01\n",
      "   2.11692199e-05  -3.19084818e-02]\n",
      "score:[  1.99841112e-02  -1.49307944e-02   7.07411244e-03 ...,  -1.88936365e-01\n",
      "   6.75806648e-05  -3.21342874e-02]\n",
      "score:[  2.01559895e-02  -1.50287844e-02   7.15569655e-03 ...,  -1.90312642e-01\n",
      "   1.14543038e-04  -3.23597783e-02]\n",
      "score:[  2.03280280e-02  -1.51265495e-02   7.23757464e-03 ...,  -1.91687578e-01\n",
      "   1.62053042e-04  -3.25849561e-02]\n",
      "score:[ 0.02050022 -0.01522409  0.00731974 ..., -0.19306118  0.00021011\n",
      " -0.03280982]\n",
      "score:[ 0.02067258 -0.01532141  0.0074022  ..., -0.19443344  0.0002587\n",
      " -0.03303438]\n",
      "score:[ 0.02084509 -0.01541851  0.00748495 ..., -0.19580437  0.00030784\n",
      " -0.03325863]\n",
      "score:[ 0.02101775 -0.01551539  0.00756798 ..., -0.19717398  0.0003575\n",
      " -0.03348257]\n",
      "score:[ 0.02119057 -0.01561204  0.0076513  ..., -0.19854227  0.0004077  -0.0337062 ]\n",
      "score:[ 0.02136353 -0.01570849  0.0077349  ..., -0.19990924  0.00045843\n",
      " -0.03392954]\n",
      "score:[ 0.02153665 -0.01580471  0.00781877 ..., -0.2012749   0.00050968\n",
      " -0.03415257]\n",
      "score:[ 0.02170991 -0.01590072  0.00790293 ..., -0.20263924  0.00056146\n",
      " -0.03437529]\n",
      "score:[ 0.02188332 -0.01599651  0.00798736 ..., -0.20400228  0.00061375\n",
      " -0.03459773]\n",
      "score:[ 0.02205688 -0.0160921   0.00807206 ..., -0.20536402  0.00066656\n",
      " -0.03481986]\n",
      "score:[ 0.02223057 -0.01618747  0.00815703 ..., -0.20672446  0.00071988\n",
      " -0.03504169]\n",
      "score:[ 0.02240441 -0.01628263  0.00824227 ..., -0.2080836   0.00077371\n",
      " -0.03526324]\n",
      "score:[ 0.02257839 -0.01637758  0.00832778 ..., -0.20944145  0.00082805\n",
      " -0.03548448]\n",
      "score:[ 0.02275251 -0.01647232  0.00841355 ..., -0.21079802  0.00088289\n",
      " -0.03570544]\n",
      "score:[ 0.02292677 -0.01656685  0.00849959 ..., -0.2121533   0.00093823\n",
      " -0.03592611]\n",
      "score:[ 0.02310116 -0.01666118  0.00858589 ..., -0.2135073   0.00099407\n",
      " -0.03614648]\n",
      "score:[ 0.02327568 -0.01675531  0.00867244 ..., -0.21486003  0.0010504\n",
      " -0.03636657]\n",
      "score:[ 0.02345034 -0.01684923  0.00875926 ..., -0.21621148  0.00110723\n",
      " -0.03658638]\n",
      "score:[ 0.02362513 -0.01694294  0.00884633 ..., -0.21756166  0.00116454\n",
      " -0.0368059 ]\n",
      "score:[ 0.02380006 -0.01703646  0.00893365 ..., -0.21891058  0.00122234\n",
      " -0.03702513]\n",
      "score:[ 0.02397511 -0.01712977  0.00902122 ..., -0.22025824  0.00128062\n",
      " -0.03724409]\n",
      "score:[ 0.02415028 -0.01722289  0.00910904 ..., -0.22160464  0.00133938\n",
      " -0.03746276]\n",
      "score:[ 0.02432559 -0.0173158   0.00919711 ..., -0.22294978  0.00139862\n",
      " -0.03768116]\n",
      "score:[ 0.02450101 -0.01740852  0.00928543 ..., -0.22429368  0.00145833\n",
      " -0.03789928]\n",
      "score:[ 0.02467657 -0.01750105  0.00937399 ..., -0.22563632  0.00151851\n",
      " -0.03811712]\n",
      "score:[ 0.02485224 -0.01759337  0.00946279 ..., -0.22697773  0.00157916\n",
      " -0.03833469]\n",
      "score:[ 0.02502803 -0.01768551  0.00955183 ..., -0.22831789  0.00164027\n",
      " -0.03855198]\n",
      "score:[ 0.02520395 -0.01777745  0.00964111 ..., -0.22965681  0.00170185 -0.038769  ]\n",
      "score:[ 0.02537998 -0.01786919  0.00973063 ..., -0.23099451  0.00176389\n",
      " -0.03898575]\n",
      "score:[ 0.02555613 -0.01796075  0.00982038 ..., -0.23233097  0.00182638\n",
      " -0.03920223]\n",
      "score:[ 0.02573239 -0.01805212  0.00991036 ..., -0.23366621  0.00188933\n",
      " -0.03941845]\n",
      "score:[ 0.02590877 -0.0181433   0.01000058 ..., -0.23500022  0.00195273\n",
      " -0.0396344 ]\n",
      "score:[ 0.02608525 -0.01823428  0.01009102 ..., -0.23633301  0.00201657\n",
      " -0.03985008]\n",
      "score:[ 0.02626186 -0.01832509  0.01018169 ..., -0.23766459  0.00208087\n",
      " -0.0400655 ]\n",
      "score:[ 0.02643857 -0.0184157   0.01027259 ..., -0.23899496  0.00214561\n",
      " -0.04028065]\n",
      "score:[ 0.02661539 -0.01850614  0.01036371 ..., -0.24032411  0.00221078\n",
      " -0.04049554]\n",
      "score:[ 0.02679231 -0.01859638  0.01045505 ..., -0.24165206  0.0022764\n",
      " -0.04071018]\n",
      "score:[ 0.02696935 -0.01868645  0.01054662 ..., -0.24297881  0.00234245\n",
      " -0.04092455]\n",
      "score:[ 0.02714649 -0.01877633  0.0106384  ..., -0.24430436  0.00240893\n",
      " -0.04113867]\n",
      "score:[ 0.02732373 -0.01886603  0.0107304  ..., -0.24562871  0.00247584\n",
      " -0.04135253]\n"
     ]
    },
    {
     "name": "stdout",
     "output_type": "stream",
     "text": [
      "score:[ 0.02750107 -0.01895555  0.01082261 ..., -0.24695187  0.00254318\n",
      " -0.04156614]\n",
      "score:[ 0.02767852 -0.0190449   0.01091504 ..., -0.24827384  0.00261095\n",
      " -0.04177949]\n",
      "score:[ 0.02785607 -0.01913406  0.01100768 ..., -0.24959462  0.00267913\n",
      " -0.04199259]\n",
      "score:[ 0.02803371 -0.01922305  0.01110053 ..., -0.25091422  0.00274774\n",
      " -0.04220544]\n",
      "score:[ 0.02821146 -0.01931186  0.01119359 ..., -0.25223264  0.00281676\n",
      " -0.04241803]\n",
      "score:[ 0.02838929 -0.0194005   0.01128686 ..., -0.25354988  0.0028862\n",
      " -0.04263038]\n",
      "score:[ 0.02856723 -0.01948896  0.01138033 ..., -0.25486595  0.00295605\n",
      " -0.04284249]\n",
      "score:[ 0.02874526 -0.01957724  0.011474   ..., -0.25618085  0.00302631\n",
      " -0.04305434]\n",
      "score:[ 0.02892338 -0.01966536  0.01156788 ..., -0.25749459  0.00309697\n",
      " -0.04326595]\n",
      "score:[ 0.02910159 -0.0197533   0.01166196 ..., -0.25880716  0.00316804\n",
      " -0.04347732]\n",
      "score:[ 0.0292799  -0.01984108  0.01175624 ..., -0.26011857  0.00323951\n",
      " -0.04368844]\n",
      "score:[ 0.02945829 -0.01992868  0.01185071 ..., -0.26142882  0.00331138\n",
      " -0.04389932]\n",
      "score:[ 0.02963677 -0.02001612  0.01194538 ..., -0.26273791  0.00338365\n",
      " -0.04410996]\n",
      "score:[ 0.02981534 -0.02010338  0.01204024 ..., -0.26404586  0.00345631\n",
      " -0.04432037]\n",
      "score:[ 0.02999399 -0.02019048  0.0121353  ..., -0.26535265  0.00352937\n",
      " -0.04453053]\n",
      "score:[ 0.03017273 -0.02027742  0.01223055 ..., -0.2666583   0.00360281\n",
      " -0.04474046]\n",
      "score:[ 0.03035155 -0.02036418  0.01232598 ..., -0.26796281  0.00367664\n",
      " -0.04495015]\n",
      "score:[ 0.03053046 -0.02045079  0.01242161 ..., -0.26926618  0.00375086\n",
      " -0.0451596 ]\n",
      "score:[ 0.03070944 -0.02053723  0.01251742 ..., -0.27056841  0.00382546\n",
      " -0.04536883]\n",
      "score:[ 0.03088851 -0.02062351  0.01261341 ..., -0.27186951  0.00390044\n",
      " -0.04557782]\n",
      "score:[ 0.03106766 -0.02070962  0.01270959 ..., -0.27316948  0.00397579\n",
      " -0.04578658]\n",
      "score:[ 0.03124688 -0.02079558  0.01280595 ..., -0.27446832  0.00405153\n",
      " -0.04599511]\n",
      "score:[ 0.03142618 -0.02088138  0.01290249 ..., -0.27576604  0.00412763\n",
      " -0.04620341]\n",
      "score:[ 0.03160556 -0.02096701  0.01299921 ..., -0.27706264  0.00420411\n",
      " -0.04641148]\n",
      "score:[ 0.03178501 -0.02105249  0.01309611 ..., -0.27835811  0.00428095\n",
      " -0.04661933]\n",
      "score:[ 0.03196454 -0.02113781  0.01319319 ..., -0.27965248  0.00435817\n",
      " -0.04682695]\n",
      "score:[ 0.03214414 -0.02122297  0.01329043 ..., -0.28094573  0.00443574\n",
      " -0.04703434]\n",
      "score:[ 0.03232381 -0.02130798  0.01338785 ..., -0.28223786  0.00451368\n",
      " -0.04724151]\n",
      "score:[ 0.03250355 -0.02139284  0.01348545 ..., -0.2835289   0.00459198\n",
      " -0.04744846]\n",
      "score:[ 0.03268336 -0.02147753  0.01358321 ..., -0.28481883  0.00467063\n",
      " -0.04765519]\n",
      "iteration 200: log likelihood of observed labels = -35728.89418769\n",
      "score:[ 0.03286324 -0.02156208  0.01368114 ..., -0.28610765  0.00474964\n",
      " -0.0478617 ]\n",
      "score:[ 0.03304319 -0.02164647  0.01377924 ..., -0.28739538  0.004829   -0.04806799]\n",
      "score:[ 0.0332232  -0.02173072  0.0138775  ..., -0.28868201  0.00490872\n",
      " -0.04827406]\n",
      "score:[ 0.03340328 -0.02181481  0.01397593 ..., -0.28996755  0.00498878\n",
      " -0.04847991]\n",
      "score:[ 0.03358342 -0.02189875  0.01407453 ..., -0.291252    0.00506919\n",
      " -0.04868555]\n",
      "score:[ 0.03376363 -0.02198254  0.01417328 ..., -0.29253537  0.00514994\n",
      " -0.04889097]\n",
      "score:[ 0.0339439  -0.02206618  0.01427219 ..., -0.29381764  0.00523104\n",
      " -0.04909618]\n",
      "score:[ 0.03412423 -0.02214968  0.01437127 ..., -0.29509884  0.00531247\n",
      " -0.04930118]\n",
      "score:[ 0.03430462 -0.02223303  0.0144705  ..., -0.29637896  0.00539424\n",
      " -0.04950596]\n",
      "score:[ 0.03448507 -0.02231623  0.01456989 ..., -0.297658    0.00547635\n",
      " -0.04971053]\n",
      "score:[ 0.03466558 -0.02239928  0.01466943 ..., -0.29893597  0.0055588\n",
      " -0.04991489]\n",
      "score:[ 0.03484615 -0.0224822   0.01476913 ..., -0.30021286  0.00564157\n",
      " -0.05011905]\n",
      "score:[ 0.03502678 -0.02256497  0.01486897 ..., -0.30148869  0.00572467\n",
      " -0.05032299]\n",
      "score:[ 0.03520746 -0.02264759  0.01496897 ..., -0.30276345  0.00580811\n",
      " -0.05052673]\n",
      "score:[ 0.03538819 -0.02273007  0.01506912 ..., -0.30403715  0.00589186\n",
      " -0.05073026]\n",
      "score:[ 0.03556898 -0.02281242  0.01516942 ..., -0.30530979  0.00597594\n",
      " -0.05093359]\n",
      "score:[ 0.03574982 -0.02289462  0.01526986 ..., -0.30658137  0.00606035\n",
      " -0.05113671]\n",
      "score:[ 0.03593072 -0.02297668  0.01537045 ..., -0.3078519   0.00614507\n",
      " -0.05133963]\n",
      "score:[ 0.03611166 -0.0230586   0.01547119 ..., -0.30912138  0.00623011\n",
      " -0.05154235]\n",
      "score:[ 0.03629266 -0.02314038  0.01557207 ..., -0.3103898   0.00631546\n",
      " -0.05174487]\n",
      "score:[ 0.0364737  -0.02322203  0.01567309 ..., -0.31165718  0.00640113\n",
      " -0.05194719]\n",
      "score:[ 0.03665479 -0.02330353  0.01577425 ..., -0.31292351  0.00648711\n",
      " -0.0521493 ]\n",
      "score:[ 0.03683593 -0.0233849   0.01587555 ..., -0.3141888   0.0065734\n",
      " -0.05235122]\n",
      "score:[ 0.03701712 -0.02346614  0.01597699 ..., -0.31545305  0.00665999\n",
      " -0.05255295]\n",
      "score:[ 0.03719835 -0.02354724  0.01607856 ..., -0.31671627  0.0067469\n",
      " -0.05275447]\n",
      "score:[ 0.03737963 -0.02362821  0.01618028 ..., -0.31797845  0.0068341  -0.0529558 ]\n",
      "score:[ 0.03756095 -0.02370904  0.01628212 ..., -0.3192396   0.00692161\n",
      " -0.05315694]\n",
      "score:[ 0.03774231 -0.02378974  0.0163841  ..., -0.32049972  0.00700942\n",
      " -0.05335788]\n",
      "score:[ 0.03792372 -0.02387031  0.01648621 ..., -0.32175881  0.00709753\n",
      " -0.05355863]\n",
      "score:[ 0.03810517 -0.02395075  0.01658846 ..., -0.32301688  0.00718593\n",
      " -0.05375919]\n",
      "score:[ 0.03828666 -0.02403105  0.01669083 ..., -0.32427392  0.00727463\n",
      " -0.05395955]\n",
      "score:[ 0.03846818 -0.02411123  0.01679333 ..., -0.32552995  0.00736362\n",
      " -0.05415973]\n",
      "score:[ 0.03864975 -0.02419127  0.01689596 ..., -0.32678496  0.0074529\n",
      " -0.05435971]\n",
      "score:[ 0.03883135 -0.02427119  0.01699871 ..., -0.32803895  0.00754246\n",
      " -0.05455951]\n",
      "score:[ 0.039013   -0.02435098  0.01710159 ..., -0.32929193  0.00763232\n",
      " -0.05475912]\n",
      "score:[ 0.03919467 -0.02443064  0.0172046  ..., -0.3305439   0.00772246\n",
      " -0.05495855]\n",
      "score:[ 0.03937639 -0.02451018  0.01730772 ..., -0.33179487  0.00781289\n",
      " -0.05515779]\n",
      "score:[ 0.03955813 -0.02458959  0.01741097 ..., -0.33304483  0.00790359\n",
      " -0.05535684]\n",
      "score:[ 0.03973992 -0.02466887  0.01751434 ..., -0.33429379  0.00799458\n",
      " -0.05555571]\n",
      "score:[ 0.03992173 -0.02474803  0.01761783 ..., -0.33554174  0.00808584\n",
      " -0.0557544 ]\n",
      "score:[ 0.04010358 -0.02482707  0.01772144 ..., -0.3367887   0.00817738\n",
      " -0.05595291]\n",
      "score:[ 0.04028546 -0.02490598  0.01782516 ..., -0.33803466  0.0082692\n",
      " -0.05615123]\n",
      "score:[ 0.04046736 -0.02498477  0.017929   ..., -0.33927963  0.00836129\n",
      " -0.05634937]\n",
      "score:[ 0.0406493  -0.02506343  0.01803296 ..., -0.34052361  0.00845365\n",
      " -0.05654734]\n",
      "score:[ 0.04083127 -0.02514198  0.01813703 ..., -0.3417666   0.00854628\n",
      " -0.05674512]\n",
      "score:[ 0.04101327 -0.0252204   0.01824121 ..., -0.34300861  0.00863917\n",
      " -0.05694273]\n",
      "score:[ 0.04119529 -0.02529871  0.0183455  ..., -0.34424963  0.00873233\n",
      " -0.05714016]\n",
      "score:[ 0.04137734 -0.02537689  0.01844991 ..., -0.34548967  0.00882576\n",
      " -0.05733741]\n",
      "score:[ 0.04155942 -0.02545496  0.01855442 ..., -0.34672872  0.00891945\n",
      " -0.05753449]\n",
      "score:[ 0.04174152 -0.02553291  0.01865904 ..., -0.34796681  0.0090134\n",
      " -0.05773139]\n",
      "score:[ 0.04192364 -0.02561073  0.01876377 ..., -0.34920391  0.00910761\n",
      " -0.05792812]\n",
      "score:[ 0.04210579 -0.02568845  0.01886861 ..., -0.35044005  0.00920207\n",
      " -0.05812467]\n",
      "score:[ 0.04228796 -0.02576604  0.01897355 ..., -0.35167521  0.0092968\n",
      " -0.05832105]\n",
      "score:[ 0.04247016 -0.02584352  0.0190786  ..., -0.3529094   0.00939177\n",
      " -0.05851727]\n",
      "score:[ 0.04265237 -0.02592089  0.01918375 ..., -0.35414263  0.009487   -0.05871331]\n",
      "score:[ 0.04283461 -0.02599814  0.019289   ..., -0.3553749   0.00958248\n",
      " -0.05890918]\n",
      "score:[ 0.04301687 -0.02607527  0.01939435 ..., -0.3566062   0.00967821\n",
      " -0.05910488]\n",
      "score:[ 0.04319914 -0.0261523   0.0194998  ..., -0.35783654  0.00977419\n",
      " -0.05930041]\n",
      "score:[ 0.04338144 -0.02622921  0.01960536 ..., -0.35906593  0.00987041\n",
      " -0.05949578]\n",
      "score:[ 0.04356375 -0.026306    0.01971101 ..., -0.36029436  0.00996688\n",
      " -0.05969097]\n",
      "score:[ 0.04374608 -0.02638269  0.01981676 ..., -0.36152184  0.01006359\n",
      " -0.05988601]\n",
      "score:[ 0.04392842 -0.02645926  0.0199226  ..., -0.36274837  0.01016055\n",
      " -0.06008087]\n",
      "score:[ 0.04411078 -0.02653573  0.02002854 ..., -0.36397394  0.01025774\n",
      " -0.06027557]\n",
      "score:[ 0.04429316 -0.02661208  0.02013458 ..., -0.36519858  0.01035517\n",
      " -0.06047011]\n",
      "score:[ 0.04447555 -0.02668832  0.0202407  ..., -0.36642226  0.01045284\n",
      " -0.06066449]\n"
     ]
    },
    {
     "name": "stdout",
     "output_type": "stream",
     "text": [
      "score:[ 0.04465796 -0.02676446  0.02034692 ..., -0.36764501  0.01055074\n",
      " -0.0608587 ]\n",
      "score:[ 0.04484037 -0.02684048  0.02045324 ..., -0.36886681  0.01064888\n",
      " -0.06105275]\n",
      "score:[ 0.0450228  -0.0269164   0.02055964 ..., -0.37008768  0.01074725\n",
      " -0.06124664]\n",
      "score:[ 0.04520525 -0.02699221  0.02066613 ..., -0.37130761  0.01084585\n",
      " -0.06144037]\n",
      "score:[ 0.0453877  -0.02706792  0.02077271 ..., -0.3725266   0.01094468\n",
      " -0.06163394]\n",
      "score:[ 0.04557016 -0.02714352  0.02087938 ..., -0.37374467  0.01104374\n",
      " -0.06182735]\n",
      "score:[ 0.04575263 -0.02721901  0.02098613 ..., -0.3749618   0.01114302\n",
      " -0.0620206 ]\n",
      "score:[ 0.04593511 -0.0272944   0.02109298 ..., -0.376178    0.01124253\n",
      " -0.0622137 ]\n",
      "score:[ 0.0461176  -0.02736968  0.0211999  ..., -0.37739328  0.01134226\n",
      " -0.06240664]\n",
      "score:[ 0.0463001  -0.02744486  0.02130691 ..., -0.37860764  0.01144222\n",
      " -0.06259942]\n",
      "score:[ 0.04648261 -0.02751994  0.02141401 ..., -0.37982107  0.01154239\n",
      " -0.06279205]\n",
      "score:[ 0.04666512 -0.02759491  0.02152118 ..., -0.38103358  0.01164279\n",
      " -0.06298452]\n",
      "score:[ 0.04684763 -0.02766978  0.02162844 ..., -0.38224518  0.0117434\n",
      " -0.06317684]\n",
      "score:[ 0.04703016 -0.02774455  0.02173578 ..., -0.38345586  0.01184422 -0.063369  ]\n",
      "score:[ 0.04721268 -0.02781922  0.02184319 ..., -0.38466562  0.01194527\n",
      " -0.06356102]\n",
      "score:[ 0.04739521 -0.02789379  0.02195069 ..., -0.38587448  0.01204652\n",
      " -0.06375288]\n",
      "score:[ 0.04757775 -0.02796825  0.02205826 ..., -0.38708242  0.01214799\n",
      " -0.06394459]\n",
      "score:[ 0.04776028 -0.02804262  0.02216591 ..., -0.38828946  0.01224967\n",
      " -0.06413615]\n",
      "score:[ 0.04794282 -0.02811689  0.02227364 ..., -0.38949558  0.01235156\n",
      " -0.06432756]\n",
      "score:[ 0.04812536 -0.02819106  0.02238144 ..., -0.39070081  0.01245365\n",
      " -0.06451882]\n",
      "score:[ 0.0483079  -0.02826513  0.02248932 ..., -0.39190513  0.01255596\n",
      " -0.06470993]\n",
      "score:[ 0.04849044 -0.0283391   0.02259727 ..., -0.39310855  0.01265846\n",
      " -0.0649009 ]\n",
      "score:[ 0.04867298 -0.02841298  0.02270529 ..., -0.39431107  0.01276117\n",
      " -0.06509171]\n",
      "score:[ 0.04885552 -0.02848675  0.02281339 ..., -0.3955127   0.01286409\n",
      " -0.06528238]\n",
      "score:[ 0.04903806 -0.02856044  0.02292155 ..., -0.39671343  0.0129672\n",
      " -0.06547291]\n",
      "score:[ 0.0492206  -0.02863402  0.02302979 ..., -0.39791327  0.01307052\n",
      " -0.06566329]\n",
      "score:[ 0.04940313 -0.02870751  0.0231381  ..., -0.39911222  0.01317403\n",
      " -0.06585352]\n",
      "score:[ 0.04958566 -0.02878091  0.02324647 ..., -0.40031027  0.01327774\n",
      " -0.06604361]\n",
      "score:[ 0.04976818 -0.02885421  0.02335491 ..., -0.40150745  0.01338165\n",
      " -0.06623356]\n",
      "score:[ 0.04995071 -0.02892742  0.02346342 ..., -0.40270373  0.01348575\n",
      " -0.06642336]\n",
      "score:[ 0.05013322 -0.02900054  0.023572   ..., -0.40389913  0.01359004\n",
      " -0.06661303]\n",
      "score:[ 0.05031573 -0.02907356  0.02368064 ..., -0.40509365  0.01369453\n",
      " -0.06680255]\n",
      "score:[ 0.05049824 -0.02914649  0.02378934 ..., -0.40628729  0.0137992\n",
      " -0.06699193]\n",
      "score:[ 0.05068074 -0.02921933  0.02389811 ..., -0.40748005  0.01390407\n",
      " -0.06718117]\n",
      "score:[ 0.05086323 -0.02929207  0.02400694 ..., -0.40867194  0.01400912\n",
      " -0.06737027]\n",
      "iteration 300: log likelihood of observed labels = -35268.51212683\n"
     ]
    }
   ],
   "source": [
    "coefficients = logistic_regression(feature_matrix, sentiment, initial_coefficients=np.zeros(194),\n",
    "                                   step_size=1e-7, max_iter=301)"
   ]
  },
  {
   "cell_type": "markdown",
   "metadata": {},
   "source": [
    "**Quiz Question:** As each iteration of gradient ascent passes, does the log likelihood increase or decrease?"
   ]
  },
  {
   "cell_type": "markdown",
   "metadata": {},
   "source": [
    "## Predicting sentiments"
   ]
  },
  {
   "cell_type": "markdown",
   "metadata": {},
   "source": [
    "Recall from lecture that class predictions for a data point $\\mathbf{x}$ can be computed from the coefficients $\\mathbf{w}$ using the following formula:\n",
    "$$\n",
    "\\hat{y}_i = \n",
    "\\left\\{\n",
    "\\begin{array}{ll}\n",
    "      +1 & \\mathbf{x}_i^T\\mathbf{w} > 0 \\\\\n",
    "      -1 & \\mathbf{x}_i^T\\mathbf{w} \\leq 0 \\\\\n",
    "\\end{array} \n",
    "\\right.\n",
    "$$\n",
    "\n",
    "Now, we will write some code to compute class predictions. We will do this in two steps:\n",
    "* **Step 1**: First compute the **scores** using **feature_matrix** and **coefficients** using a dot product.\n",
    "* **Step 2**: Using the formula above, compute the class predictions from the scores.\n",
    "\n",
    "Step 1 can be implemented as follows:"
   ]
  },
  {
   "cell_type": "code",
   "execution_count": 75,
   "metadata": {
    "collapsed": true
   },
   "outputs": [],
   "source": [
    "# Compute the scores as a dot product between feature_matrix and coefficients.\n",
    "scores = np.dot(feature_matrix, coefficients)"
   ]
  },
  {
   "cell_type": "markdown",
   "metadata": {},
   "source": [
    "Now, complete the following code block for **Step 2** to compute the class predictions using the **scores** obtained above:"
   ]
  },
  {
   "cell_type": "code",
   "execution_count": 80,
   "metadata": {},
   "outputs": [],
   "source": [
    "class_predictions = scores >= 0"
   ]
  },
  {
   "cell_type": "markdown",
   "metadata": {},
   "source": [
    "** Quiz Question: ** How many reviews were predicted to have positive sentiment?"
   ]
  },
  {
   "cell_type": "code",
   "execution_count": 81,
   "metadata": {},
   "outputs": [
    {
     "name": "stdout",
     "output_type": "stream",
     "text": [
      "25126\n",
      "27946\n"
     ]
    }
   ],
   "source": [
    "print((scores >= 0).sum())\n",
    "print((scores < 0).sum())"
   ]
  },
  {
   "cell_type": "markdown",
   "metadata": {},
   "source": [
    "## Measuring accuracy\n",
    "\n",
    "We will now measure the classification accuracy of the model. Recall from the lecture that the classification accuracy can be computed as follows:\n",
    "\n",
    "$$\n",
    "\\mbox{accuracy} = \\frac{\\mbox{# correctly classified data points}}{\\mbox{# total data points}}\n",
    "$$\n",
    "\n",
    "Complete the following code block to compute the accuracy of the model."
   ]
  },
  {
   "cell_type": "code",
   "execution_count": 85,
   "metadata": {},
   "outputs": [
    {
     "name": "stdout",
     "output_type": "stream",
     "text": [
      "score:[ 0.05104571 -0.02936473  0.02411584 ..., -0.40986295  0.01411436\n",
      " -0.06755923]\n",
      "-----------------------------------------------------\n",
      "# Reviews   correctly classified = 19268\n",
      "# Reviews incorrectly classified = 33804\n",
      "# Reviews total                  = 53072\n",
      "-----------------------------------------------------\n",
      "Accuracy = 0.36\n"
     ]
    }
   ],
   "source": [
    "predictions = predict_probability(feature_matrix,coefficients) > 0.5\n",
    "num_mistakes = (sentiment != predictions).sum()\n",
    "accuracy = float(len(products) - num_mistakes) / len(products)\n",
    "print \"-----------------------------------------------------\"\n",
    "print '# Reviews   correctly classified =', len(products) - num_mistakes\n",
    "print '# Reviews incorrectly classified =', num_mistakes\n",
    "print '# Reviews total                  =', len(products)\n",
    "print \"-----------------------------------------------------\"\n",
    "print 'Accuracy = %.2f' % accuracy"
   ]
  },
  {
   "cell_type": "markdown",
   "metadata": {},
   "source": [
    "**Quiz Question**: What is the accuracy of the model on predictions made above? (round to 2 digits of accuracy)"
   ]
  },
  {
   "cell_type": "markdown",
   "metadata": {},
   "source": [
    "## Which words contribute most to positive & negative sentiments?"
   ]
  },
  {
   "cell_type": "markdown",
   "metadata": {},
   "source": [
    "Recall that in Module 2 assignment, we were able to compute the \"**most positive words**\". These are words that correspond most strongly with positive reviews. In order to do this, we will first do the following:\n",
    "* Treat each coefficient as a tuple, i.e. (**word**, **coefficient_value**).\n",
    "* Sort all the (**word**, **coefficient_value**) tuples by **coefficient_value** in descending order."
   ]
  },
  {
   "cell_type": "code",
   "execution_count": 62,
   "metadata": {
    "scrolled": true
   },
   "outputs": [],
   "source": [
    "coefficients = list(coefficients[1:]) # exclude intercept\n",
    "word_coefficient_tuples = [(word, coefficient) for word, coefficient in zip(important_words, coefficients)]\n",
    "word_coefficient_tuples = sorted(word_coefficient_tuples, key=lambda x:x[1], reverse=True)"
   ]
  },
  {
   "cell_type": "markdown",
   "metadata": {},
   "source": [
    "Now, **word_coefficient_tuples** contains a sorted list of (**word**, **coefficient_value**) tuples. The first 10 elements in this list correspond to the words that are most positive."
   ]
  },
  {
   "cell_type": "markdown",
   "metadata": {},
   "source": [
    "### Ten \"most positive\" words\n",
    "\n",
    "Now, we compute the 10 words that have the most positive coefficient values. These words are associated with positive sentiment."
   ]
  },
  {
   "cell_type": "code",
   "execution_count": 65,
   "metadata": {},
   "outputs": [
    {
     "data": {
      "text/plain": [
       "[('great', 0.066546084170457709),\n",
       " ('love', 0.065890762922123258),\n",
       " ('easy', 0.064794586802578394),\n",
       " ('little', 0.045435626308421372),\n",
       " ('loves', 0.044976401394906038),\n",
       " ('well', 0.03013500109210708),\n",
       " ('perfect', 0.029739937104968455),\n",
       " ('old', 0.020077541034775381),\n",
       " ('nice', 0.018408707995268992),\n",
       " ('daughter', 0.017703199905701694)]"
      ]
     },
     "execution_count": 65,
     "metadata": {},
     "output_type": "execute_result"
    }
   ],
   "source": [
    "word_coefficient_tuples[0:10]"
   ]
  },
  {
   "cell_type": "markdown",
   "metadata": {},
   "source": [
    "** Quiz Question:** Which word is **not** present in the top 10 \"most positive\" words?"
   ]
  },
  {
   "cell_type": "markdown",
   "metadata": {},
   "source": [
    "### Ten \"most negative\" words\n",
    "\n",
    "Next, we repeat this exercise on the 10 most negative words.  That is, we compute the 10 words that have the most negative coefficient values. These words are associated with negative sentiment."
   ]
  },
  {
   "cell_type": "code",
   "execution_count": 66,
   "metadata": {},
   "outputs": [
    {
     "data": {
      "text/plain": [
       "[('would', -0.053860148445203128),\n",
       " ('product', -0.041511033392108897),\n",
       " ('money', -0.038982037286487109),\n",
       " ('work', -0.03306951529475273),\n",
       " ('even', -0.030051249236035804),\n",
       " ('disappointed', -0.028978976142317068),\n",
       " ('get', -0.028711552980192588),\n",
       " ('back', -0.027742697230661334),\n",
       " ('return', -0.026592778462247283),\n",
       " ('monitor', -0.02448210054589172)]"
      ]
     },
     "execution_count": 66,
     "metadata": {},
     "output_type": "execute_result"
    }
   ],
   "source": [
    "word_coefficient_tuples_neg = sorted(word_coefficient_tuples, key=lambda x:x[1])\n",
    "word_coefficient_tuples_neg[0:10]"
   ]
  },
  {
   "cell_type": "markdown",
   "metadata": {},
   "source": [
    "** Quiz Question:** Which word is **not** present in the top 10 \"most negative\" words?"
   ]
  },
  {
   "cell_type": "code",
   "execution_count": null,
   "metadata": {
    "collapsed": true
   },
   "outputs": [],
   "source": []
  }
 ],
 "metadata": {
  "kernelspec": {
   "display_name": "Python 2",
   "language": "python",
   "name": "python2"
  },
  "language_info": {
   "codemirror_mode": {
    "name": "ipython",
    "version": 2
   },
   "file_extension": ".py",
   "mimetype": "text/x-python",
   "name": "python",
   "nbconvert_exporter": "python",
   "pygments_lexer": "ipython2",
   "version": "2.7.13"
  }
 },
 "nbformat": 4,
 "nbformat_minor": 1
}
