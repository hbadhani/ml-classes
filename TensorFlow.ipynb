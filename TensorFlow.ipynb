{
 "cells": [
  {
   "cell_type": "code",
   "execution_count": 125,
   "metadata": {},
   "outputs": [
    {
     "ename": "ModuleNotFoundError",
     "evalue": "No module named 'tensorflow.keras'",
     "output_type": "error",
     "traceback": [
      "\u001b[0;31m---------------------------------------------------------------------------\u001b[0m",
      "\u001b[0;31mModuleNotFoundError\u001b[0m                       Traceback (most recent call last)",
      "\u001b[0;32m<ipython-input-125-cd1abfd25cf0>\u001b[0m in \u001b[0;36m<module>\u001b[0;34m()\u001b[0m\n\u001b[1;32m      1\u001b[0m \u001b[0;32mimport\u001b[0m \u001b[0mnumpy\u001b[0m \u001b[0;32mas\u001b[0m \u001b[0mnp\u001b[0m\u001b[0;34m\u001b[0m\u001b[0m\n\u001b[1;32m      2\u001b[0m \u001b[0;32mimport\u001b[0m \u001b[0mtensorflow\u001b[0m \u001b[0;32mas\u001b[0m \u001b[0mtf\u001b[0m\u001b[0;34m\u001b[0m\u001b[0m\n\u001b[0;32m----> 3\u001b[0;31m \u001b[0;32mimport\u001b[0m \u001b[0mtensorflow\u001b[0m\u001b[0;34m.\u001b[0m\u001b[0mkeras\u001b[0m\u001b[0;34m\u001b[0m\u001b[0m\n\u001b[0m",
      "\u001b[0;31mModuleNotFoundError\u001b[0m: No module named 'tensorflow.keras'"
     ]
    }
   ],
   "source": [
    "import numpy as np \n",
    "import tensorflow as tf\n",
    "import ker"
   ]
  },
  {
   "cell_type": "code",
   "execution_count": null,
   "metadata": {},
   "outputs": [],
   "source": []
  },
  {
   "cell_type": "code",
   "execution_count": 113,
   "metadata": {},
   "outputs": [],
   "source": [
    "w = tf.Variable(0.0, dtype=tf.float32)\n",
    "# J = tf.add(tf.subtract(tf.pow(w,2),tf.multiply(w,10)), 25)\n",
    "# J = w**2 - 10*w + 25\n",
    "x = tf.placeholder(tf.float32,[3])\n",
    "coefficients = np.array([1.,-10.,25.])\n",
    "J = x[0]*w**2 + x[1]*w + x[2]\n",
    "train = tf.train.GradientDescentOptimizer(0.1).minimize(J)"
   ]
  },
  {
   "cell_type": "code",
   "execution_count": 114,
   "metadata": {},
   "outputs": [],
   "source": [
    "init = tf.global_variables_initializer()"
   ]
  },
  {
   "cell_type": "code",
   "execution_count": 115,
   "metadata": {},
   "outputs": [
    {
     "name": "stdout",
     "output_type": "stream",
     "text": [
      "0.0\n",
      "25.0\n"
     ]
    }
   ],
   "source": [
    "session = tf.Session()\n",
    "session.run(init)\n",
    "print(session.run(w))\n",
    "print(session.run(J, feed_dict={x:coefficients}))"
   ]
  },
  {
   "cell_type": "code",
   "execution_count": 116,
   "metadata": {},
   "outputs": [
    {
     "name": "stdout",
     "output_type": "stream",
     "text": [
      "5.0\n",
      "-1.90735e-06\n"
     ]
    }
   ],
   "source": [
    "for i in range(1000):\n",
    "    session.run(train, feed_dict={x:coefficients})\n",
    "print(session.run(w))\n",
    "print(session.run(J, feed_dict={x:coefficients}))"
   ]
  },
  {
   "cell_type": "code",
   "execution_count": 117,
   "metadata": {
    "collapsed": true
   },
   "outputs": [],
   "source": [
    "session.close()"
   ]
  },
  {
   "cell_type": "code",
   "execution_count": 134,
   "metadata": {},
   "outputs": [
    {
     "name": "stdout",
     "output_type": "stream",
     "text": [
      "[[[ 0.12389456  0.24978085  0.58817193  0.09856927]\n",
      "  [ 0.3584317   0.60417066  0.10433987  0.64132859]\n",
      "  [ 0.50628437  0.81510713  0.54633998  0.31642604]]\n",
      "\n",
      " [[ 0.93357038  0.70070661  0.09339233  0.70794546]\n",
      "  [ 0.33053236  0.07701491  0.68450629  0.38423922]\n",
      "  [ 0.5815188   0.96924296  0.67207158  0.07447572]]]\n"
     ]
    }
   ],
   "source": [
    "a = np.random.rand(2,3,4)\n",
    "print(a)"
   ]
  },
  {
   "cell_type": "code",
   "execution_count": 137,
   "metadata": {},
   "outputs": [
    {
     "data": {
      "text/plain": [
       "array([[ 0.93357038,  0.70070661,  0.58817193,  0.70794546],\n",
       "       [ 0.3584317 ,  0.60417066,  0.68450629,  0.64132859],\n",
       "       [ 0.5815188 ,  0.96924296,  0.67207158,  0.31642604]])"
      ]
     },
     "execution_count": 137,
     "metadata": {},
     "output_type": "execute_result"
    }
   ],
   "source": [
    "np.max(a,axis=0)"
   ]
  },
  {
   "cell_type": "code",
   "execution_count": 138,
   "metadata": {},
   "outputs": [
    {
     "data": {
      "text/plain": [
       "array([[ 0.50628437,  0.81510713,  0.58817193,  0.64132859],\n",
       "       [ 0.93357038,  0.96924296,  0.68450629,  0.70794546]])"
      ]
     },
     "execution_count": 138,
     "metadata": {},
     "output_type": "execute_result"
    }
   ],
   "source": [
    "np.max(a,axis=1)"
   ]
  },
  {
   "cell_type": "code",
   "execution_count": 139,
   "metadata": {},
   "outputs": [
    {
     "data": {
      "text/plain": [
       "array([[ 0.58817193,  0.64132859,  0.81510713],\n",
       "       [ 0.93357038,  0.68450629,  0.96924296]])"
      ]
     },
     "execution_count": 139,
     "metadata": {},
     "output_type": "execute_result"
    }
   ],
   "source": [
    "np.max(a,axis=2)"
   ]
  },
  {
   "cell_type": "code",
   "execution_count": 140,
   "metadata": {},
   "outputs": [
    {
     "data": {
      "text/plain": [
       "array([[ 0.58817193,  0.64132859,  0.81510713],\n",
       "       [ 0.93357038,  0.68450629,  0.96924296]])"
      ]
     },
     "execution_count": 140,
     "metadata": {},
     "output_type": "execute_result"
    }
   ],
   "source": [
    "np.max(a,axis=-1)"
   ]
  },
  {
   "cell_type": "code",
   "execution_count": 141,
   "metadata": {
    "collapsed": true
   },
   "outputs": [],
   "source": [
    "box1 = (2, 1, 4, 3)\n",
    "box2 = (1, 2, 3, 4)"
   ]
  },
  {
   "cell_type": "code",
   "execution_count": 144,
   "metadata": {},
   "outputs": [
    {
     "ename": "SyntaxError",
     "evalue": "invalid syntax (<ipython-input-144-abdade25bd46>, line 1)",
     "output_type": "error",
     "traceback": [
      "\u001b[0;36m  File \u001b[0;32m\"<ipython-input-144-abdade25bd46>\"\u001b[0;36m, line \u001b[0;32m1\u001b[0m\n\u001b[0;31m    box1.1\u001b[0m\n\u001b[0m         ^\u001b[0m\n\u001b[0;31mSyntaxError\u001b[0m\u001b[0;31m:\u001b[0m invalid syntax\n"
     ]
    }
   ],
   "source": [
    "box1.1"
   ]
  },
  {
   "cell_type": "code",
   "execution_count": 146,
   "metadata": {
    "collapsed": true
   },
   "outputs": [],
   "source": [
    "a_G = tf.random_normal([1, 4, 4, 3], mean=1, stddev=4)"
   ]
  },
  {
   "cell_type": "code",
   "execution_count": 147,
   "metadata": {},
   "outputs": [
    {
     "name": "stdout",
     "output_type": "stream",
     "text": [
      "Tensor(\"random_normal:0\", shape=(1, 4, 4, 3), dtype=float32)\n"
     ]
    }
   ],
   "source": [
    "print(a_G)"
   ]
  },
  {
   "cell_type": "code",
   "execution_count": 154,
   "metadata": {},
   "outputs": [
    {
     "name": "stdout",
     "output_type": "stream",
     "text": [
      "[[[[-1.28487158 -4.65712214 -3.69754744]\n",
      "   [ 3.49677706  5.49320221  6.21671009]\n",
      "   [-0.92942035  1.1047051   1.95406258]\n",
      "   [-1.54450583  2.62630558 -0.93994105]]\n",
      "\n",
      "  [[ 3.00776505 -2.83131003  4.024436  ]\n",
      "   [-0.33929348 -0.9525578   4.21731186]\n",
      "   [-0.58576965 -4.51304436  4.06365538]\n",
      "   [ 4.74829578 -0.42018163  5.6671958 ]]\n",
      "\n",
      "  [[ 0.60779279  2.57430506 -0.46098471]\n",
      "   [ 7.25215483 -4.41498947 -2.32243252]\n",
      "   [ 2.21872854 -5.24966097 -6.4372735 ]\n",
      "   [ 3.66865444 -0.5479902  -1.90269279]]\n",
      "\n",
      "  [[ 4.27260971 -3.46149015  0.86021906]\n",
      "   [ 3.45513725 -0.10285735 -2.67844105]\n",
      "   [-1.19517398  9.44965744 -3.66468573]\n",
      "   [-3.00457573  3.12048006  2.03534436]]]]\n",
      "#######\n",
      "[[[ -0.19513428   1.34603751   0.94837159  -5.24046659   0.12314409\n",
      "     1.18385112  -0.51064372   0.20193505  -1.48246074  -2.61157441\n",
      "    -5.22344351   5.60201311  -6.65609407  -2.33237743  -0.52891934\n",
      "     4.03483772]\n",
      "  [ 10.10686398  -2.71461678   1.30271626   8.57744217  -0.45530272\n",
      "    -6.2827673    5.24723434   4.99404383  -4.83478928   9.61101818\n",
      "    -4.12739706  -2.67823243   0.2087515    0.18178642   0.56291538\n",
      "    -4.53437901]\n",
      "  [  0.46301693   5.99433422  -0.35082173   6.15073538  -3.88366318\n",
      "     3.58662343   0.46538544   0.15665299   2.00140047  -4.63630581\n",
      "     0.6750201    4.74098587   2.40982723  -0.04837465   4.53435135\n",
      "     4.52157784]]]\n",
      "#######\n",
      "[[[  1.38382995  -5.05599403  -0.07359099]\n",
      "  [  3.04858232  -3.73019505   6.44522524]\n",
      "  [ -4.00715733   3.19835496   5.20698023]\n",
      "  [  4.03625202   8.95150089  -6.19350052]\n",
      "  [  4.04731417   3.75030565   3.24438548]\n",
      "  [ -0.95977831   0.27950543   1.25238168]\n",
      "  [  7.79073286   2.92221165  -1.5875802 ]\n",
      "  [ -0.25585592  -0.29389429  -3.6671834 ]\n",
      "  [  4.80353069   4.34651566   3.43697047]\n",
      "  [ -4.79152489   7.67733955   8.40798759]\n",
      "  [  5.37439156  -5.9162364   -1.75943446]\n",
      "  [  6.64693022   2.22145152  -4.38250446]\n",
      "  [  2.39798546  -1.57121444   3.78020525]\n",
      "  [ -3.78127718  -2.36338067   2.19908428]\n",
      "  [  9.09343624   1.68945396  -0.85224664]\n",
      "  [ -1.7508812   -1.53916645  13.44073296]]]\n"
     ]
    }
   ],
   "source": [
    "with tf.Session() as sess:\n",
    "    print(sess.run(a_G))\n",
    "    print(\"#######\")\n",
    "    print(sess.run(tf.reshape(a_G,(1,3,16))))\n",
    "    print(\"#######\")\n",
    "    print(sess.run(tf.reshape(a_G,(1,16,3))))"
   ]
  },
  {
   "cell_type": "code",
   "execution_count": null,
   "metadata": {
    "collapsed": true
   },
   "outputs": [],
   "source": []
  }
 ],
 "metadata": {
  "kernelspec": {
   "display_name": "Python 3",
   "language": "python",
   "name": "python3"
  },
  "language_info": {
   "codemirror_mode": {
    "name": "ipython",
    "version": 3
   },
   "file_extension": ".py",
   "mimetype": "text/x-python",
   "name": "python",
   "nbconvert_exporter": "python",
   "pygments_lexer": "ipython3",
   "version": "3.6.2"
  }
 },
 "nbformat": 4,
 "nbformat_minor": 2
}
